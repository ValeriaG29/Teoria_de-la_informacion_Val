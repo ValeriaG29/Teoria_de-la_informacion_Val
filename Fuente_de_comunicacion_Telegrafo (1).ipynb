{
  "nbformat": 4,
  "nbformat_minor": 0,
  "metadata": {
    "colab": {
      "provenance": []
    },
    "kernelspec": {
      "name": "python3",
      "display_name": "Python 3"
    },
    "language_info": {
      "name": "python"
    }
  },
  "cells": [
    {
      "cell_type": "code",
      "execution_count": 1,
      "metadata": {
        "id": "d1NgCUzMd2s1"
      },
      "outputs": [],
      "source": [
        "import random\n",
        "import math\n",
        "import numpy as np\n",
        "import time\n",
        "from scipy.io import wavfile"
      ]
    },
    {
      "cell_type": "code",
      "source": [
        "#Esquema de comunicación de Shannon: Fuente de informacion\n",
        "def transmisor (mensaje):\n",
        "  fuente_de_informacion = \"/content/mensaje_morse.txt\"\n",
        "  with open(mensaje, 'r') as archivo:\n",
        "    mensaje = archivo.read()\n",
        "    print (\"Mensaje original: \")\n",
        "    print(mensaje)\n",
        "  return mensaje"
      ],
      "metadata": {
        "id": "mnYsRSTTgTwt"
      },
      "execution_count": 21,
      "outputs": []
    },
    {
      "cell_type": "code",
      "source": [
        "#Codificación del mensaje\n",
        "def codificador (mensaje_original, diccionario): #recibimos el mensaje enviado desde nuestra fuente de informacion\n",
        "  mensaje_codificado = []\n",
        "  for letra in mensaje_original.upper():\n",
        "    if letra in diccionario:\n",
        "      mensaje_codificado.append(diccionario[letra])\n",
        "    else:\n",
        "       mensaje_codificado.append('?','=','!','¡')\n",
        "  archivo = ' '.join(mensaje_codificado)\n",
        "  return archivo\n",
        "\n"
      ],
      "metadata": {
        "id": "lFnEIHrTl9Yf"
      },
      "execution_count": 3,
      "outputs": []
    },
    {
      "cell_type": "code",
      "source": [
        "def canal(archivo):\n",
        "  probabilidad = 0.2\n",
        "  print(\"llego el archivo\", type(archivo))\n",
        "  mensaje_morse = []\n",
        "\n",
        "  for pulsaciones in archivo:\n",
        "    mensaje_morse.append(pulsaciones)\n",
        "    if pulsaciones in mensaje_morse and random.random() < probabilidad:\n",
        "            print(\"se agrego ruido aqui\")\n",
        "            ruido = random.choice(['.', '-'])\n",
        "            mensaje_morse.append(ruido)\n",
        "    print(pulsaciones)\n",
        "    time.sleep(0.5)\n",
        "  mensaje_distorsionado = ''.join(mensaje_morse)\n",
        "  print(''.join(mensaje_morse))\n",
        "  return mensaje_distorsionado"
      ],
      "metadata": {
        "id": "RRKeWq6ymNq_"
      },
      "execution_count": 4,
      "outputs": []
    },
    {
      "cell_type": "code",
      "source": [
        "# Función para generar una onda sinusoidal de una frecuencia específica\n",
        "def generate_sin_wave(frequency, duration, SAMPLE_RATE):\n",
        "    time_points = np.linspace(0, duration, int(SAMPLE_RATE * duration), False)\n",
        "    wave = np.sin(2 * np.pi * frequency * time_points)\n",
        "    return wave\n",
        "\n",
        "# Función para transformar un símbolo Morse en una onda\n",
        "def morse_to_wave(symbol, DOT_DURATION, SAMPLE_RATE):\n",
        "    if symbol == '.':\n",
        "        return generate_sin_wave(500, DOT_DURATION, SAMPLE_RATE)\n",
        "    elif symbol == '-':\n",
        "        return generate_sin_wave(500, DOT_DURATION * 3, SAMPLE_RATE)\n",
        "    elif symbol == '/':\n",
        "        return np.zeros(int(SAMPLE_RATE * DOT_DURATION * 7))  # Espacio entre palabras\n",
        "\n",
        "def receptor(morse_message):\n",
        "  # Definir la duración de un punto en segundos y la frecuencia de muestreo\n",
        "  DOT_DURATION = 1\n",
        "  SAMPLE_RATE = 44100\n",
        "\n",
        "  # Convertir el mensaje Morse en una serie de ondas\n",
        "  morse_wave = np.concatenate([morse_to_wave(char, DOT_DURATION, SAMPLE_RATE) for char in morse_message.replace(' ', '/')])\n",
        "\n",
        "  # Normalizar la onda entre -1 y 1\n",
        "  morse_wave = morse_wave / np.max(np.abs(morse_wave))\n",
        "\n",
        "  # Crear el archivo WAV\n",
        "  wavfile.write(\"morse_audio.wav\", SAMPLE_RATE, (morse_wave * 32767).astype(np.int16))\n",
        "\n",
        "  print(\"Archivo 'morse_audio.wav' creado.\")"
      ],
      "metadata": {
        "id": "gem7txRvVg93"
      },
      "execution_count": 19,
      "outputs": []
    },
    {
      "cell_type": "code",
      "source": [
        "#PROCESO DE COMUNICACIÓN\n",
        "# Diccionario de caracteres Morse\n",
        "MORSE_CODE_DICT = {\n",
        "    'A': '.-', 'B': '-...', 'C': '-.-.', 'D': '-..', 'E': '.', 'F': '..-.', 'G': '--.', 'H': '....',\n",
        "    'I': '..', 'J': '.---', 'K': '-.-', 'L': '.-..', 'M': '--', 'N': '-.', 'O': '---', 'P': '.--.',\n",
        "    'Q': '--.-', 'R': '.-.', 'S': '...', 'T': '-', 'U': '..-', 'V': '...-', 'W': '.--', 'X': '-..-',\n",
        "    'Y': '-.--', 'Z': '--..', '0': '-----', '1': '.----', '2': '..---', '3': '...--', '4': '....-',\n",
        "    '5': '.....', '6': '-....', '7': '--...', '8': '---..', '9': '----.', ' ': '/'\n",
        "}\n",
        "\n",
        "mensaje = transmisor('/content/mensaje_morse.txt')\n",
        "mensaje_codificado =codificador(mensaje,MORSE_CODE_DICT)\n",
        "print(\"Mensaje codificado:\", mensaje_codificado)\n",
        "mensaje_distorsionado = canal(mensaje_codificado)\n",
        "receptor(mensaje_distorsionado)"
      ],
      "metadata": {
        "colab": {
          "base_uri": "https://localhost:8080/"
        },
        "id": "pFySsmuYtrN5",
        "outputId": "35d182ae-5314-4468-80d8-0a603d3c8ca4"
      },
      "execution_count": 20,
      "outputs": [
        {
          "output_type": "stream",
          "name": "stdout",
          "text": [
            "Mensaje original: \n",
            "HOLA\n",
            "Mensaje codificado: .... --- .-.. .-\n",
            "llego el archivo <class 'str'>\n",
            ".\n",
            ".\n",
            "se agrego ruido aqui\n",
            ".\n",
            ".\n",
            " \n",
            "se agrego ruido aqui\n",
            "-\n",
            "-\n",
            "se agrego ruido aqui\n",
            "-\n",
            " \n",
            ".\n",
            "-\n",
            ".\n",
            ".\n",
            "se agrego ruido aqui\n",
            " \n",
            ".\n",
            "-\n",
            "..... -.--. .-.. -.-\n",
            "Archivo 'morse_audio.wav' creado.\n"
          ]
        }
      ]
    }
  ]
}